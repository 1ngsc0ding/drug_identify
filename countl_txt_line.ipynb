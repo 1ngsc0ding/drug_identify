{
 "cells": [
  {
   "cell_type": "code",
   "execution_count": 59,
   "metadata": {},
   "outputs": [],
   "source": [
    "import os\n",
    "from tqdm.notebook import tqdm\n",
    "fs = os.listdir('pseudo_lables')\n",
    "fs.sort()"
   ]
  },
  {
   "cell_type": "code",
   "execution_count": 60,
   "metadata": {},
   "outputs": [
    {
     "data": {
      "application/vnd.jupyter.widget-view+json": {
       "model_id": "1cbc53fd25924d759876c19d1d1d24d6",
       "version_major": 2,
       "version_minor": 0
      },
      "text/plain": [
       "  0%|          | 0/47503 [00:00<?, ?it/s]"
      ]
     },
     "metadata": {},
     "output_type": "display_data"
    }
   ],
   "source": [
    "c_files = []\n",
    "for f in tqdm(fs):\n",
    "    with open(os.path.join('pseudo_lables',f), 'r') as fp:\n",
    "        lines = len(fp.readlines())\n",
    "        # print(f'{f} has {lines} lines')\n",
    "        if lines > 2:\n",
    "            # print(f)\n",
    "            c_files.append(f)"
   ]
  },
  {
   "cell_type": "code",
   "execution_count": 61,
   "metadata": {},
   "outputs": [
    {
     "data": {
      "text/plain": [
       "2404"
      ]
     },
     "execution_count": 61,
     "metadata": {},
     "output_type": "execute_result"
    }
   ],
   "source": [
    "len(c_files)"
   ]
  },
  {
   "cell_type": "code",
   "execution_count": 48,
   "metadata": {},
   "outputs": [
    {
     "name": "stdout",
     "output_type": "stream",
     "text": [
      "4\n",
      "1\n",
      "257 0.704167 0.151042 0.0916667 0.0729167\n",
      "2\n",
      "257 0.425 0.3125 0.0666667 0.0625\n",
      "3\n",
      "257 0.520833 0.229167 0.958333 0.4375\n",
      "4\n",
      "257 0.516667 0.713542 0.95 0.427083\n"
     ]
    }
   ],
   "source": [
    "# src = os.path.join('pseudo_lables',c_files[0])\n",
    "# dst = os.path.join('labels0',c_files[0])\n",
    "# ln = 0\n",
    "# with open(src, 'r') as txt:\n",
    "#     txt = txt.read().splitlines()\n",
    "#     lines = len(txt)\n",
    "#     print(lines)\n",
    "#     with open(dst,'w') as dst_file:\n",
    "#         for line in txt:\n",
    "#             ln += 1\n",
    "#             cl, x, y, w, h = [i for i in line.split(' ')]\n",
    "#             if float(w)>0.1 and ln<lines:\n",
    "#                 dst_file.writelines(' '.join([cl, x, y, w, h])+'\\n')\n",
    "#             elif float(w)>0.1:\n",
    "#                 dst_file.writelines(' '.join([cl, x, y, w, h]))"
   ]
  },
  {
   "cell_type": "code",
   "execution_count": 62,
   "metadata": {},
   "outputs": [
    {
     "data": {
      "application/vnd.jupyter.widget-view+json": {
       "model_id": "7f48fb91482a4cb4b6e97164e406443a",
       "version_major": 2,
       "version_minor": 0
      },
      "text/plain": [
       "  0%|          | 0/47502 [00:00<?, ?it/s]"
      ]
     },
     "metadata": {},
     "output_type": "display_data"
    }
   ],
   "source": [
    "for f in tqdm(fs[:-1]):\n",
    "    src = os.path.join('pseudo_lables',f)\n",
    "    dst = os.path.join('labels0',f)\n",
    "    ln = 0\n",
    "    with open(src, 'r') as txt:\n",
    "        txt = txt.read().splitlines()\n",
    "        lines = len(txt)\n",
    "        # print(lines)\n",
    "        with open(dst,'w') as dst_file:\n",
    "            for line in txt:\n",
    "                ln += 1\n",
    "                cl, x, y, w, h = [i for i in line.split(' ')]\n",
    "                if float(w)>0.4 and ln<lines:\n",
    "                    dst_file.writelines(' '.join([cl, x, y, w, h])+'\\n')\n",
    "                elif float(w)>0.4:\n",
    "                    dst_file.writelines(' '.join([cl, x, y, w, h]))"
   ]
  },
  {
   "cell_type": "markdown",
   "metadata": {},
   "source": [
    "# new dataset"
   ]
  },
  {
   "cell_type": "code",
   "execution_count": 5,
   "metadata": {},
   "outputs": [
    {
     "data": {
      "text/plain": [
       "'i:\\\\drug_identify\\\\dataprep'"
      ]
     },
     "execution_count": 5,
     "metadata": {},
     "output_type": "execute_result"
    }
   ],
   "source": [
    "import os\n",
    "os.getcwd()"
   ]
  },
  {
   "cell_type": "code",
   "execution_count": 1,
   "metadata": {},
   "outputs": [],
   "source": [
    "import os\n",
    "from tqdm.notebook import tqdm"
   ]
  },
  {
   "cell_type": "code",
   "execution_count": 6,
   "metadata": {},
   "outputs": [],
   "source": [
    "fs1 = os.listdir('labels')\n",
    "fs1.sort()"
   ]
  },
  {
   "cell_type": "code",
   "execution_count": 8,
   "metadata": {},
   "outputs": [
    {
     "data": {
      "application/vnd.jupyter.widget-view+json": {
       "model_id": "ef22a93a0c1448ce81c1bd71a92fc05b",
       "version_major": 2,
       "version_minor": 0
      },
      "text/plain": [
       "  0%|          | 0/47503 [00:00<?, ?it/s]"
      ]
     },
     "metadata": {},
     "output_type": "display_data"
    },
    {
     "name": "stdout",
     "output_type": "stream",
     "text": [
      "RXNAV-800_63824-0057-36_RXNAVIMAGE10_16468B44.txt\n",
      "3\n",
      "classes.txt\n",
      "2123\n"
     ]
    }
   ],
   "source": [
    "c_files = []\n",
    "for f in tqdm(fs1):\n",
    "    with open(os.path.join('labels',f), 'r') as fp:\n",
    "        lines = len(fp.readlines())\n",
    "        # print(f'{f} has {lines} lines')\n",
    "        if lines > 2:\n",
    "            print(f)\n",
    "            print(lines)\n",
    "            c_files.append(f)"
   ]
  },
  {
   "cell_type": "code",
   "execution_count": 9,
   "metadata": {},
   "outputs": [
    {
     "data": {
      "text/plain": [
       "2"
      ]
     },
     "execution_count": 9,
     "metadata": {},
     "output_type": "execute_result"
    }
   ],
   "source": [
    "len(c_files)"
   ]
  },
  {
   "cell_type": "code",
   "execution_count": 10,
   "metadata": {},
   "outputs": [
    {
     "data": {
      "application/vnd.jupyter.widget-view+json": {
       "model_id": "3759e6bdad8f4d618d2d46db4240a68c",
       "version_major": 2,
       "version_minor": 0
      },
      "text/plain": [
       "  0%|          | 0/47503 [00:00<?, ?it/s]"
      ]
     },
     "metadata": {},
     "output_type": "display_data"
    },
    {
     "name": "stdout",
     "output_type": "stream",
     "text": [
      "RXBASE-120_00093-7373-01_NLMIMAGE10_031B81CC.txt\n",
      "1\n",
      "RXBASE-120_00093-8122-01_NLMIMAGE10_75363A81.txt\n",
      "1\n",
      "RXBASE-120_00555-0776-02_NLMIMAGE10_074203C0.txt\n",
      "1\n",
      "RXBASE-120_00591-2226-01_NLMIMAGE10_9B054DAA.txt\n",
      "1\n",
      "RXBASE-120_00591-2465-01_NLMIMAGE10_2439923C.txt\n",
      "1\n",
      "RXBASE-120_51672-4031-01_NLMIMAGE10_29129484.txt\n",
      "1\n",
      "RXBASE-120_60505-0212-03_NLMIMAGE10_7934BCC5.txt\n",
      "1\n",
      "RXBASE-120_63459-0502-30_NLMIMAGE10_8641C37E.txt\n",
      "1\n",
      "RXBASE-120_63459-0504-30_NLMIMAGE10_8841C43E.txt\n",
      "0\n",
      "RXBASE-120_63459-0506-30_NLMIMAGE10_8941C4CE.txt\n",
      "0\n",
      "RXBASE-120_63459-0508-30_NLMIMAGE10_8941C4FE.txt\n",
      "0\n",
      "RXBASE-120_63459-0512-30_NLMIMAGE10_8A41C55E.txt\n",
      "1\n",
      "RXBASE-120_63459-0516-30_NLMIMAGE10_8B41C5BE.txt\n",
      "1\n",
      "RXBASE-300_00093-8122-01_NLMIMAGE10_75363A81.txt\n",
      "1\n",
      "RXBASE-300_00555-0776-02_NLMIMAGE10_074203C0.txt\n",
      "1\n",
      "RXBASE-300_00591-2226-01_NLMIMAGE10_9B054DAA.txt\n",
      "1\n",
      "RXBASE-300_00591-2465-01_NLMIMAGE10_2439923C.txt\n",
      "1\n",
      "RXBASE-300_51672-4031-01_NLMIMAGE10_29129484.txt\n",
      "1\n",
      "RXBASE-300_63459-0502-30_NLMIMAGE10_8641C37E.txt\n",
      "0\n",
      "RXBASE-300_63459-0504-30_NLMIMAGE10_8841C43E.txt\n",
      "0\n",
      "RXBASE-300_63459-0506-30_NLMIMAGE10_8941C4CE.txt\n",
      "0\n",
      "RXBASE-300_63459-0508-30_NLMIMAGE10_8941C4FE.txt\n",
      "0\n",
      "RXBASE-300_63459-0512-30_NLMIMAGE10_8A41C55E.txt\n",
      "0\n",
      "RXBASE-300_63459-0516-30_NLMIMAGE10_8B41C5BE.txt\n",
      "0\n",
      "RXBASE-300_66213-0425-10_NLMIMAGE10_16398B7C.txt\n",
      "1\n",
      "RXBASE-600_00093-8122-01_NLMIMAGE10_75363A81.txt\n",
      "1\n",
      "RXBASE-600_00555-0776-02_NLMIMAGE10_074203C0.txt\n",
      "1\n",
      "RXBASE-600_00591-2226-01_NLMIMAGE10_9B054DAA.txt\n",
      "1\n",
      "RXBASE-600_00591-2465-01_NLMIMAGE10_2439923C.txt\n",
      "1\n",
      "RXBASE-600_51672-4031-01_NLMIMAGE10_29129484.txt\n",
      "1\n",
      "RXBASE-600_63459-0502-30_NLMIMAGE10_8641C37E.txt\n",
      "0\n",
      "RXBASE-600_63459-0504-30_NLMIMAGE10_8841C43E.txt\n",
      "0\n",
      "RXBASE-600_63459-0506-30_NLMIMAGE10_8941C4CE.txt\n",
      "0\n",
      "RXBASE-600_63459-0508-30_NLMIMAGE10_8941C4FE.txt\n",
      "0\n",
      "RXBASE-600_63459-0512-30_NLMIMAGE10_8A41C55E.txt\n",
      "0\n",
      "RXBASE-600_63459-0516-30_NLMIMAGE10_8B41C5BE.txt\n",
      "0\n",
      "RXBASE-600_66213-0425-10_NLMIMAGE10_16398B7C.txt\n",
      "1\n",
      "RXBASE-800_00093-8122-01_NLMIMAGE10_75363A81.txt\n",
      "1\n",
      "RXBASE-800_00555-0776-02_NLMIMAGE10_074203C0.txt\n",
      "1\n",
      "RXBASE-800_00591-2226-01_NLMIMAGE10_9B054DAA.txt\n",
      "1\n",
      "RXBASE-800_00591-2465-01_NLMIMAGE10_2439923C.txt\n",
      "1\n",
      "RXBASE-800_51672-4031-01_NLMIMAGE10_29129484.txt\n",
      "1\n",
      "RXBASE-800_63459-0502-30_NLMIMAGE10_8641C37E.txt\n",
      "0\n",
      "RXBASE-800_63459-0504-30_NLMIMAGE10_8841C43E.txt\n",
      "0\n",
      "RXBASE-800_63459-0506-30_NLMIMAGE10_8941C4CE.txt\n",
      "0\n",
      "RXBASE-800_63459-0508-30_NLMIMAGE10_8941C4FE.txt\n",
      "0\n",
      "RXBASE-800_63459-0512-30_NLMIMAGE10_8A41C55E.txt\n",
      "0\n",
      "RXBASE-800_63459-0516-30_NLMIMAGE10_8B41C5BE.txt\n",
      "0\n",
      "RXBASE-800_66213-0425-10_NLMIMAGE10_16398B7C.txt\n",
      "1\n",
      "RXBASE-ORIGINAL_00093-8122-01_NLMIMAGE10_75363A81.txt\n",
      "1\n",
      "RXBASE-ORIGINAL_00555-0776-02_NLMIMAGE10_074203C0.txt\n",
      "1\n",
      "RXBASE-ORIGINAL_00591-2226-01_NLMIMAGE10_9B054DAA.txt\n",
      "1\n",
      "RXBASE-ORIGINAL_00591-2465-01_NLMIMAGE10_2439923C.txt\n",
      "1\n",
      "RXBASE-ORIGINAL_51672-4031-01_NLMIMAGE10_29129484.txt\n",
      "1\n",
      "RXBASE-ORIGINAL_63459-0502-30_NLMIMAGE10_8641C37E.txt\n",
      "0\n",
      "RXBASE-ORIGINAL_63459-0504-30_NLMIMAGE10_8841C43E.txt\n",
      "0\n",
      "RXBASE-ORIGINAL_63459-0506-30_NLMIMAGE10_8941C4CE.txt\n",
      "0\n",
      "RXBASE-ORIGINAL_63459-0508-30_NLMIMAGE10_8941C4FE.txt\n",
      "0\n",
      "RXBASE-ORIGINAL_63459-0512-30_NLMIMAGE10_8A41C55E.txt\n",
      "0\n",
      "RXBASE-ORIGINAL_63459-0516-30_NLMIMAGE10_8B41C5BE.txt\n",
      "0\n",
      "RXBASE-ORIGINAL_66213-0425-10_NLMIMAGE10_16398B7C.txt\n",
      "1\n",
      "RXNAV-1024_00093-8122-01_RXNAVIMAGE10_75363A81.txt\n",
      "1\n",
      "RXNAV-1024_00555-0776-02_RXNAVIMAGE10_074203C0.txt\n",
      "1\n",
      "RXNAV-1024_00591-2226-01_RXNAVIMAGE10_9B054DAA.txt\n",
      "1\n",
      "RXNAV-1024_00591-2465-01_RXNAVIMAGE10_2439923C.txt\n",
      "1\n",
      "RXNAV-1024_51672-4031-01_RXNAVIMAGE10_29129484.txt\n",
      "1\n",
      "RXNAV-1024_63459-0502-30_RXNAVIMAGE10_8641C37E.txt\n",
      "0\n",
      "RXNAV-1024_63459-0504-30_RXNAVIMAGE10_8841C43E.txt\n",
      "0\n",
      "RXNAV-1024_63459-0506-30_RXNAVIMAGE10_8941C4CE.txt\n",
      "0\n",
      "RXNAV-1024_63459-0508-30_RXNAVIMAGE10_8941C4FE.txt\n",
      "0\n",
      "RXNAV-1024_63459-0512-30_RXNAVIMAGE10_8A41C55E.txt\n",
      "0\n",
      "RXNAV-1024_63459-0516-30_RXNAVIMAGE10_8B41C5BE.txt\n",
      "0\n",
      "RXNAV-1024_66213-0425-10_RXNAVIMAGE10_16398B7C.txt\n",
      "1\n",
      "RXNAV-120_00093-8122-01_RXNAVIMAGE10_75363A81.txt\n",
      "1\n",
      "RXNAV-120_00555-0776-02_RXNAVIMAGE10_074203C0.txt\n",
      "1\n",
      "RXNAV-120_00591-2226-01_RXNAVIMAGE10_9B054DAA.txt\n",
      "1\n",
      "RXNAV-120_00591-2465-01_RXNAVIMAGE10_2439923C.txt\n",
      "1\n",
      "RXNAV-120_51672-4031-01_RXNAVIMAGE10_29129484.txt\n",
      "1\n",
      "RXNAV-120_63459-0502-30_RXNAVIMAGE10_8641C37E.txt\n",
      "0\n",
      "RXNAV-120_63459-0504-30_RXNAVIMAGE10_8841C43E.txt\n",
      "0\n",
      "RXNAV-120_63459-0506-30_RXNAVIMAGE10_8941C4CE.txt\n",
      "0\n",
      "RXNAV-120_63459-0508-30_RXNAVIMAGE10_8941C4FE.txt\n",
      "0\n",
      "RXNAV-120_63459-0512-30_RXNAVIMAGE10_8A41C55E.txt\n",
      "0\n",
      "RXNAV-120_63459-0516-30_RXNAVIMAGE10_8B41C5BE.txt\n",
      "0\n",
      "RXNAV-120_66213-0425-10_RXNAVIMAGE10_16398B7C.txt\n",
      "1\n",
      "RXNAV-300_00093-8122-01_RXNAVIMAGE10_75363A81.txt\n",
      "1\n",
      "RXNAV-300_00555-0776-02_RXNAVIMAGE10_074203C0.txt\n",
      "1\n",
      "RXNAV-300_00591-2226-01_RXNAVIMAGE10_9B054DAA.txt\n",
      "1\n",
      "RXNAV-300_00591-2465-01_RXNAVIMAGE10_2439923C.txt\n",
      "1\n",
      "RXNAV-300_51672-4031-01_RXNAVIMAGE10_29129484.txt\n",
      "1\n",
      "RXNAV-300_63459-0502-30_RXNAVIMAGE10_8641C37E.txt\n",
      "1\n",
      "RXNAV-300_63459-0504-30_RXNAVIMAGE10_8841C43E.txt\n",
      "0\n",
      "RXNAV-300_63459-0506-30_RXNAVIMAGE10_8941C4CE.txt\n",
      "1\n",
      "RXNAV-300_63459-0508-30_RXNAVIMAGE10_8941C4FE.txt\n",
      "0\n",
      "RXNAV-300_63459-0512-30_RXNAVIMAGE10_8A41C55E.txt\n",
      "1\n",
      "RXNAV-300_63459-0516-30_RXNAVIMAGE10_8B41C5BE.txt\n",
      "1\n",
      "RXNAV-600_00093-8122-01_RXNAVIMAGE10_75363A81.txt\n",
      "1\n",
      "RXNAV-600_00555-0776-02_RXNAVIMAGE10_074203C0.txt\n",
      "1\n",
      "RXNAV-600_00591-2226-01_RXNAVIMAGE10_9B054DAA.txt\n",
      "1\n",
      "RXNAV-600_00591-2465-01_RXNAVIMAGE10_2439923C.txt\n",
      "1\n",
      "RXNAV-600_51672-4031-01_RXNAVIMAGE10_29129484.txt\n",
      "1\n",
      "RXNAV-600_63459-0502-30_RXNAVIMAGE10_8641C37E.txt\n",
      "0\n",
      "RXNAV-600_63459-0504-30_RXNAVIMAGE10_8841C43E.txt\n",
      "0\n",
      "RXNAV-600_63459-0506-30_RXNAVIMAGE10_8941C4CE.txt\n",
      "0\n",
      "RXNAV-600_63459-0508-30_RXNAVIMAGE10_8941C4FE.txt\n",
      "0\n",
      "RXNAV-600_63459-0512-30_RXNAVIMAGE10_8A41C55E.txt\n",
      "0\n",
      "RXNAV-600_63459-0516-30_RXNAVIMAGE10_8B41C5BE.txt\n",
      "0\n",
      "RXNAV-800_00093-8122-01_RXNAVIMAGE10_75363A81.txt\n",
      "1\n",
      "RXNAV-800_00555-0776-02_RXNAVIMAGE10_074203C0.txt\n",
      "1\n",
      "RXNAV-800_00591-2226-01_RXNAVIMAGE10_9B054DAA.txt\n",
      "1\n",
      "RXNAV-800_00591-2465-01_RXNAVIMAGE10_2439923C.txt\n",
      "1\n",
      "RXNAV-800_51672-4031-01_RXNAVIMAGE10_29129484.txt\n",
      "1\n",
      "RXNAV-800_63459-0502-30_RXNAVIMAGE10_8641C37E.txt\n",
      "0\n",
      "RXNAV-800_63459-0504-30_RXNAVIMAGE10_8841C43E.txt\n",
      "0\n",
      "RXNAV-800_63459-0506-30_RXNAVIMAGE10_8941C4CE.txt\n",
      "0\n",
      "RXNAV-800_63459-0508-30_RXNAVIMAGE10_8941C4FE.txt\n",
      "0\n",
      "RXNAV-800_63459-0512-30_RXNAVIMAGE10_8A41C55E.txt\n",
      "0\n",
      "RXNAV-800_63459-0516-30_RXNAVIMAGE10_8B41C5BE.txt\n",
      "0\n",
      "RXNAV-ORIGINAL_00093-8122-01_RXNAVIMAGE10_75363A81.txt\n",
      "1\n",
      "RXNAV-ORIGINAL_00555-0776-02_RXNAVIMAGE10_074203C0.txt\n",
      "1\n",
      "RXNAV-ORIGINAL_00591-2226-01_RXNAVIMAGE10_9B054DAA.txt\n",
      "1\n",
      "RXNAV-ORIGINAL_00591-2465-01_RXNAVIMAGE10_2439923C.txt\n",
      "1\n",
      "RXNAV-ORIGINAL_51672-4031-01_RXNAVIMAGE10_29129484.txt\n",
      "1\n",
      "RXNAV-ORIGINAL_63459-0502-30_RXNAVIMAGE10_8641C37E.txt\n",
      "0\n",
      "RXNAV-ORIGINAL_63459-0504-30_RXNAVIMAGE10_8841C43E.txt\n",
      "0\n",
      "RXNAV-ORIGINAL_63459-0506-30_RXNAVIMAGE10_8941C4CE.txt\n",
      "0\n",
      "RXNAV-ORIGINAL_63459-0508-30_RXNAVIMAGE10_8941C4FE.txt\n",
      "0\n",
      "RXNAV-ORIGINAL_63459-0512-30_RXNAVIMAGE10_8A41C55E.txt\n",
      "0\n",
      "RXNAV-ORIGINAL_63459-0516-30_RXNAVIMAGE10_8B41C5BE.txt\n",
      "0\n",
      "RXNAV-ORIGINAL_66213-0425-10_RXNAVIMAGE10_16398B7C.txt\n",
      "1\n"
     ]
    }
   ],
   "source": [
    "c_files = []\n",
    "for f in tqdm(fs1):\n",
    "    with open(os.path.join('labels0',f), 'r') as fp:\n",
    "        lines = len(fp.readlines())\n",
    "        # print(f'{f} has {lines} lines')\n",
    "        if lines < 2:\n",
    "            print(f)\n",
    "            print(lines)\n",
    "            c_files.append(f)"
   ]
  },
  {
   "cell_type": "code",
   "execution_count": 11,
   "metadata": {},
   "outputs": [
    {
     "data": {
      "text/plain": [
       "['RXBASE-120_00093-7373-01_NLMIMAGE10_031B81CC.txt',\n",
       " 'RXBASE-120_00093-8122-01_NLMIMAGE10_75363A81.txt',\n",
       " 'RXBASE-120_00555-0776-02_NLMIMAGE10_074203C0.txt',\n",
       " 'RXBASE-120_00591-2226-01_NLMIMAGE10_9B054DAA.txt',\n",
       " 'RXBASE-120_00591-2465-01_NLMIMAGE10_2439923C.txt',\n",
       " 'RXBASE-120_51672-4031-01_NLMIMAGE10_29129484.txt',\n",
       " 'RXBASE-120_60505-0212-03_NLMIMAGE10_7934BCC5.txt',\n",
       " 'RXBASE-120_63459-0502-30_NLMIMAGE10_8641C37E.txt',\n",
       " 'RXBASE-120_63459-0504-30_NLMIMAGE10_8841C43E.txt',\n",
       " 'RXBASE-120_63459-0506-30_NLMIMAGE10_8941C4CE.txt',\n",
       " 'RXBASE-120_63459-0508-30_NLMIMAGE10_8941C4FE.txt',\n",
       " 'RXBASE-120_63459-0512-30_NLMIMAGE10_8A41C55E.txt',\n",
       " 'RXBASE-120_63459-0516-30_NLMIMAGE10_8B41C5BE.txt',\n",
       " 'RXBASE-300_00093-8122-01_NLMIMAGE10_75363A81.txt',\n",
       " 'RXBASE-300_00555-0776-02_NLMIMAGE10_074203C0.txt',\n",
       " 'RXBASE-300_00591-2226-01_NLMIMAGE10_9B054DAA.txt',\n",
       " 'RXBASE-300_00591-2465-01_NLMIMAGE10_2439923C.txt',\n",
       " 'RXBASE-300_51672-4031-01_NLMIMAGE10_29129484.txt',\n",
       " 'RXBASE-300_63459-0502-30_NLMIMAGE10_8641C37E.txt',\n",
       " 'RXBASE-300_63459-0504-30_NLMIMAGE10_8841C43E.txt',\n",
       " 'RXBASE-300_63459-0506-30_NLMIMAGE10_8941C4CE.txt',\n",
       " 'RXBASE-300_63459-0508-30_NLMIMAGE10_8941C4FE.txt',\n",
       " 'RXBASE-300_63459-0512-30_NLMIMAGE10_8A41C55E.txt',\n",
       " 'RXBASE-300_63459-0516-30_NLMIMAGE10_8B41C5BE.txt',\n",
       " 'RXBASE-300_66213-0425-10_NLMIMAGE10_16398B7C.txt',\n",
       " 'RXBASE-600_00093-8122-01_NLMIMAGE10_75363A81.txt',\n",
       " 'RXBASE-600_00555-0776-02_NLMIMAGE10_074203C0.txt',\n",
       " 'RXBASE-600_00591-2226-01_NLMIMAGE10_9B054DAA.txt',\n",
       " 'RXBASE-600_00591-2465-01_NLMIMAGE10_2439923C.txt',\n",
       " 'RXBASE-600_51672-4031-01_NLMIMAGE10_29129484.txt',\n",
       " 'RXBASE-600_63459-0502-30_NLMIMAGE10_8641C37E.txt',\n",
       " 'RXBASE-600_63459-0504-30_NLMIMAGE10_8841C43E.txt',\n",
       " 'RXBASE-600_63459-0506-30_NLMIMAGE10_8941C4CE.txt',\n",
       " 'RXBASE-600_63459-0508-30_NLMIMAGE10_8941C4FE.txt',\n",
       " 'RXBASE-600_63459-0512-30_NLMIMAGE10_8A41C55E.txt',\n",
       " 'RXBASE-600_63459-0516-30_NLMIMAGE10_8B41C5BE.txt',\n",
       " 'RXBASE-600_66213-0425-10_NLMIMAGE10_16398B7C.txt',\n",
       " 'RXBASE-800_00093-8122-01_NLMIMAGE10_75363A81.txt',\n",
       " 'RXBASE-800_00555-0776-02_NLMIMAGE10_074203C0.txt',\n",
       " 'RXBASE-800_00591-2226-01_NLMIMAGE10_9B054DAA.txt',\n",
       " 'RXBASE-800_00591-2465-01_NLMIMAGE10_2439923C.txt',\n",
       " 'RXBASE-800_51672-4031-01_NLMIMAGE10_29129484.txt',\n",
       " 'RXBASE-800_63459-0502-30_NLMIMAGE10_8641C37E.txt',\n",
       " 'RXBASE-800_63459-0504-30_NLMIMAGE10_8841C43E.txt',\n",
       " 'RXBASE-800_63459-0506-30_NLMIMAGE10_8941C4CE.txt',\n",
       " 'RXBASE-800_63459-0508-30_NLMIMAGE10_8941C4FE.txt',\n",
       " 'RXBASE-800_63459-0512-30_NLMIMAGE10_8A41C55E.txt',\n",
       " 'RXBASE-800_63459-0516-30_NLMIMAGE10_8B41C5BE.txt',\n",
       " 'RXBASE-800_66213-0425-10_NLMIMAGE10_16398B7C.txt',\n",
       " 'RXBASE-ORIGINAL_00093-8122-01_NLMIMAGE10_75363A81.txt',\n",
       " 'RXBASE-ORIGINAL_00555-0776-02_NLMIMAGE10_074203C0.txt',\n",
       " 'RXBASE-ORIGINAL_00591-2226-01_NLMIMAGE10_9B054DAA.txt',\n",
       " 'RXBASE-ORIGINAL_00591-2465-01_NLMIMAGE10_2439923C.txt',\n",
       " 'RXBASE-ORIGINAL_51672-4031-01_NLMIMAGE10_29129484.txt',\n",
       " 'RXBASE-ORIGINAL_63459-0502-30_NLMIMAGE10_8641C37E.txt',\n",
       " 'RXBASE-ORIGINAL_63459-0504-30_NLMIMAGE10_8841C43E.txt',\n",
       " 'RXBASE-ORIGINAL_63459-0506-30_NLMIMAGE10_8941C4CE.txt',\n",
       " 'RXBASE-ORIGINAL_63459-0508-30_NLMIMAGE10_8941C4FE.txt',\n",
       " 'RXBASE-ORIGINAL_63459-0512-30_NLMIMAGE10_8A41C55E.txt',\n",
       " 'RXBASE-ORIGINAL_63459-0516-30_NLMIMAGE10_8B41C5BE.txt',\n",
       " 'RXBASE-ORIGINAL_66213-0425-10_NLMIMAGE10_16398B7C.txt',\n",
       " 'RXNAV-1024_00093-8122-01_RXNAVIMAGE10_75363A81.txt',\n",
       " 'RXNAV-1024_00555-0776-02_RXNAVIMAGE10_074203C0.txt',\n",
       " 'RXNAV-1024_00591-2226-01_RXNAVIMAGE10_9B054DAA.txt',\n",
       " 'RXNAV-1024_00591-2465-01_RXNAVIMAGE10_2439923C.txt',\n",
       " 'RXNAV-1024_51672-4031-01_RXNAVIMAGE10_29129484.txt',\n",
       " 'RXNAV-1024_63459-0502-30_RXNAVIMAGE10_8641C37E.txt',\n",
       " 'RXNAV-1024_63459-0504-30_RXNAVIMAGE10_8841C43E.txt',\n",
       " 'RXNAV-1024_63459-0506-30_RXNAVIMAGE10_8941C4CE.txt',\n",
       " 'RXNAV-1024_63459-0508-30_RXNAVIMAGE10_8941C4FE.txt',\n",
       " 'RXNAV-1024_63459-0512-30_RXNAVIMAGE10_8A41C55E.txt',\n",
       " 'RXNAV-1024_63459-0516-30_RXNAVIMAGE10_8B41C5BE.txt',\n",
       " 'RXNAV-1024_66213-0425-10_RXNAVIMAGE10_16398B7C.txt',\n",
       " 'RXNAV-120_00093-8122-01_RXNAVIMAGE10_75363A81.txt',\n",
       " 'RXNAV-120_00555-0776-02_RXNAVIMAGE10_074203C0.txt',\n",
       " 'RXNAV-120_00591-2226-01_RXNAVIMAGE10_9B054DAA.txt',\n",
       " 'RXNAV-120_00591-2465-01_RXNAVIMAGE10_2439923C.txt',\n",
       " 'RXNAV-120_51672-4031-01_RXNAVIMAGE10_29129484.txt',\n",
       " 'RXNAV-120_63459-0502-30_RXNAVIMAGE10_8641C37E.txt',\n",
       " 'RXNAV-120_63459-0504-30_RXNAVIMAGE10_8841C43E.txt',\n",
       " 'RXNAV-120_63459-0506-30_RXNAVIMAGE10_8941C4CE.txt',\n",
       " 'RXNAV-120_63459-0508-30_RXNAVIMAGE10_8941C4FE.txt',\n",
       " 'RXNAV-120_63459-0512-30_RXNAVIMAGE10_8A41C55E.txt',\n",
       " 'RXNAV-120_63459-0516-30_RXNAVIMAGE10_8B41C5BE.txt',\n",
       " 'RXNAV-120_66213-0425-10_RXNAVIMAGE10_16398B7C.txt',\n",
       " 'RXNAV-300_00093-8122-01_RXNAVIMAGE10_75363A81.txt',\n",
       " 'RXNAV-300_00555-0776-02_RXNAVIMAGE10_074203C0.txt',\n",
       " 'RXNAV-300_00591-2226-01_RXNAVIMAGE10_9B054DAA.txt',\n",
       " 'RXNAV-300_00591-2465-01_RXNAVIMAGE10_2439923C.txt',\n",
       " 'RXNAV-300_51672-4031-01_RXNAVIMAGE10_29129484.txt',\n",
       " 'RXNAV-300_63459-0502-30_RXNAVIMAGE10_8641C37E.txt',\n",
       " 'RXNAV-300_63459-0504-30_RXNAVIMAGE10_8841C43E.txt',\n",
       " 'RXNAV-300_63459-0506-30_RXNAVIMAGE10_8941C4CE.txt',\n",
       " 'RXNAV-300_63459-0508-30_RXNAVIMAGE10_8941C4FE.txt',\n",
       " 'RXNAV-300_63459-0512-30_RXNAVIMAGE10_8A41C55E.txt',\n",
       " 'RXNAV-300_63459-0516-30_RXNAVIMAGE10_8B41C5BE.txt',\n",
       " 'RXNAV-600_00093-8122-01_RXNAVIMAGE10_75363A81.txt',\n",
       " 'RXNAV-600_00555-0776-02_RXNAVIMAGE10_074203C0.txt',\n",
       " 'RXNAV-600_00591-2226-01_RXNAVIMAGE10_9B054DAA.txt',\n",
       " 'RXNAV-600_00591-2465-01_RXNAVIMAGE10_2439923C.txt',\n",
       " 'RXNAV-600_51672-4031-01_RXNAVIMAGE10_29129484.txt',\n",
       " 'RXNAV-600_63459-0502-30_RXNAVIMAGE10_8641C37E.txt',\n",
       " 'RXNAV-600_63459-0504-30_RXNAVIMAGE10_8841C43E.txt',\n",
       " 'RXNAV-600_63459-0506-30_RXNAVIMAGE10_8941C4CE.txt',\n",
       " 'RXNAV-600_63459-0508-30_RXNAVIMAGE10_8941C4FE.txt',\n",
       " 'RXNAV-600_63459-0512-30_RXNAVIMAGE10_8A41C55E.txt',\n",
       " 'RXNAV-600_63459-0516-30_RXNAVIMAGE10_8B41C5BE.txt',\n",
       " 'RXNAV-800_00093-8122-01_RXNAVIMAGE10_75363A81.txt',\n",
       " 'RXNAV-800_00555-0776-02_RXNAVIMAGE10_074203C0.txt',\n",
       " 'RXNAV-800_00591-2226-01_RXNAVIMAGE10_9B054DAA.txt',\n",
       " 'RXNAV-800_00591-2465-01_RXNAVIMAGE10_2439923C.txt',\n",
       " 'RXNAV-800_51672-4031-01_RXNAVIMAGE10_29129484.txt',\n",
       " 'RXNAV-800_63459-0502-30_RXNAVIMAGE10_8641C37E.txt',\n",
       " 'RXNAV-800_63459-0504-30_RXNAVIMAGE10_8841C43E.txt',\n",
       " 'RXNAV-800_63459-0506-30_RXNAVIMAGE10_8941C4CE.txt',\n",
       " 'RXNAV-800_63459-0508-30_RXNAVIMAGE10_8941C4FE.txt',\n",
       " 'RXNAV-800_63459-0512-30_RXNAVIMAGE10_8A41C55E.txt',\n",
       " 'RXNAV-800_63459-0516-30_RXNAVIMAGE10_8B41C5BE.txt',\n",
       " 'RXNAV-ORIGINAL_00093-8122-01_RXNAVIMAGE10_75363A81.txt',\n",
       " 'RXNAV-ORIGINAL_00555-0776-02_RXNAVIMAGE10_074203C0.txt',\n",
       " 'RXNAV-ORIGINAL_00591-2226-01_RXNAVIMAGE10_9B054DAA.txt',\n",
       " 'RXNAV-ORIGINAL_00591-2465-01_RXNAVIMAGE10_2439923C.txt',\n",
       " 'RXNAV-ORIGINAL_51672-4031-01_RXNAVIMAGE10_29129484.txt',\n",
       " 'RXNAV-ORIGINAL_63459-0502-30_RXNAVIMAGE10_8641C37E.txt',\n",
       " 'RXNAV-ORIGINAL_63459-0504-30_RXNAVIMAGE10_8841C43E.txt',\n",
       " 'RXNAV-ORIGINAL_63459-0506-30_RXNAVIMAGE10_8941C4CE.txt',\n",
       " 'RXNAV-ORIGINAL_63459-0508-30_RXNAVIMAGE10_8941C4FE.txt',\n",
       " 'RXNAV-ORIGINAL_63459-0512-30_RXNAVIMAGE10_8A41C55E.txt',\n",
       " 'RXNAV-ORIGINAL_63459-0516-30_RXNAVIMAGE10_8B41C5BE.txt',\n",
       " 'RXNAV-ORIGINAL_66213-0425-10_RXNAVIMAGE10_16398B7C.txt']"
      ]
     },
     "execution_count": 11,
     "metadata": {},
     "output_type": "execute_result"
    }
   ],
   "source": [
    "c_files"
   ]
  },
  {
   "cell_type": "code",
   "execution_count": 17,
   "metadata": {},
   "outputs": [
    {
     "ename": "SystemError",
     "evalue": "<built-in function isinstance> returned a result with an error set",
     "output_type": "error",
     "traceback": [
      "\u001b[1;31m---------------------------------------------------------------------------\u001b[0m",
      "\u001b[1;31mAttributeError\u001b[0m                            Traceback (most recent call last)",
      "\u001b[1;31mAttributeError\u001b[0m: partially initialized module 'pandas' has no attribute '_pandas_parser_CAPI' (most likely due to a circular import)",
      "\nThe above exception was the direct cause of the following exception:\n",
      "\u001b[1;31mSystemError\u001b[0m                               Traceback (most recent call last)",
      "Cell \u001b[1;32mIn[17], line 1\u001b[0m\n\u001b[1;32m----> 1\u001b[0m \u001b[38;5;28;01mimport\u001b[39;00m \u001b[38;5;21;01mpandas\u001b[39;00m\n\u001b[0;32m      2\u001b[0m \u001b[38;5;66;03m# pd.DataFrame(c_files).to_csv('lessbbox.csv',index=False)\u001b[39;00m\n",
      "File \u001b[1;32md:\\AI_Study_Module\\anaconda3\\envs\\python39\\lib\\site-packages\\pandas\\__init__.py:77\u001b[0m\n\u001b[0;32m     74\u001b[0m \u001b[38;5;66;03m# let init-time option registration happen\u001b[39;00m\n\u001b[0;32m     75\u001b[0m \u001b[38;5;28;01mimport\u001b[39;00m \u001b[38;5;21;01mpandas\u001b[39;00m\u001b[38;5;21;01m.\u001b[39;00m\u001b[38;5;21;01mcore\u001b[39;00m\u001b[38;5;21;01m.\u001b[39;00m\u001b[38;5;21;01mconfig_init\u001b[39;00m  \u001b[38;5;66;03m# pyright: ignore[reportUnusedImport] # noqa: F401\u001b[39;00m\n\u001b[1;32m---> 77\u001b[0m \u001b[38;5;28;01mfrom\u001b[39;00m \u001b[38;5;21;01mpandas\u001b[39;00m\u001b[38;5;21;01m.\u001b[39;00m\u001b[38;5;21;01mcore\u001b[39;00m\u001b[38;5;21;01m.\u001b[39;00m\u001b[38;5;21;01mapi\u001b[39;00m \u001b[38;5;28;01mimport\u001b[39;00m (\n\u001b[0;32m     78\u001b[0m     \u001b[38;5;66;03m# dtype\u001b[39;00m\n\u001b[0;32m     79\u001b[0m     ArrowDtype,\n\u001b[0;32m     80\u001b[0m     Int8Dtype,\n\u001b[0;32m     81\u001b[0m     Int16Dtype,\n\u001b[0;32m     82\u001b[0m     Int32Dtype,\n\u001b[0;32m     83\u001b[0m     Int64Dtype,\n\u001b[0;32m     84\u001b[0m     UInt8Dtype,\n\u001b[0;32m     85\u001b[0m     UInt16Dtype,\n\u001b[0;32m     86\u001b[0m     UInt32Dtype,\n\u001b[0;32m     87\u001b[0m     UInt64Dtype,\n\u001b[0;32m     88\u001b[0m     Float32Dtype,\n\u001b[0;32m     89\u001b[0m     Float64Dtype,\n\u001b[0;32m     90\u001b[0m     CategoricalDtype,\n\u001b[0;32m     91\u001b[0m     PeriodDtype,\n\u001b[0;32m     92\u001b[0m     IntervalDtype,\n\u001b[0;32m     93\u001b[0m     DatetimeTZDtype,\n\u001b[0;32m     94\u001b[0m     StringDtype,\n\u001b[0;32m     95\u001b[0m     BooleanDtype,\n\u001b[0;32m     96\u001b[0m     \u001b[38;5;66;03m# missing\u001b[39;00m\n\u001b[0;32m     97\u001b[0m     NA,\n\u001b[0;32m     98\u001b[0m     isna,\n\u001b[0;32m     99\u001b[0m     isnull,\n\u001b[0;32m    100\u001b[0m     notna,\n\u001b[0;32m    101\u001b[0m     notnull,\n\u001b[0;32m    102\u001b[0m     \u001b[38;5;66;03m# indexes\u001b[39;00m\n\u001b[0;32m    103\u001b[0m     Index,\n\u001b[0;32m    104\u001b[0m     CategoricalIndex,\n\u001b[0;32m    105\u001b[0m     RangeIndex,\n\u001b[0;32m    106\u001b[0m     MultiIndex,\n\u001b[0;32m    107\u001b[0m     IntervalIndex,\n\u001b[0;32m    108\u001b[0m     TimedeltaIndex,\n\u001b[0;32m    109\u001b[0m     DatetimeIndex,\n\u001b[0;32m    110\u001b[0m     PeriodIndex,\n\u001b[0;32m    111\u001b[0m     IndexSlice,\n\u001b[0;32m    112\u001b[0m     \u001b[38;5;66;03m# tseries\u001b[39;00m\n\u001b[0;32m    113\u001b[0m     NaT,\n\u001b[0;32m    114\u001b[0m     Period,\n\u001b[0;32m    115\u001b[0m     period_range,\n\u001b[0;32m    116\u001b[0m     Timedelta,\n\u001b[0;32m    117\u001b[0m     timedelta_range,\n\u001b[0;32m    118\u001b[0m     Timestamp,\n\u001b[0;32m    119\u001b[0m     date_range,\n\u001b[0;32m    120\u001b[0m     bdate_range,\n\u001b[0;32m    121\u001b[0m     Interval,\n\u001b[0;32m    122\u001b[0m     interval_range,\n\u001b[0;32m    123\u001b[0m     DateOffset,\n\u001b[0;32m    124\u001b[0m     \u001b[38;5;66;03m# conversion\u001b[39;00m\n\u001b[0;32m    125\u001b[0m     to_numeric,\n\u001b[0;32m    126\u001b[0m     to_datetime,\n\u001b[0;32m    127\u001b[0m     to_timedelta,\n\u001b[0;32m    128\u001b[0m     \u001b[38;5;66;03m# misc\u001b[39;00m\n\u001b[0;32m    129\u001b[0m     Flags,\n\u001b[0;32m    130\u001b[0m     Grouper,\n\u001b[0;32m    131\u001b[0m     factorize,\n\u001b[0;32m    132\u001b[0m     unique,\n\u001b[0;32m    133\u001b[0m     value_counts,\n\u001b[0;32m    134\u001b[0m     NamedAgg,\n\u001b[0;32m    135\u001b[0m     array,\n\u001b[0;32m    136\u001b[0m     Categorical,\n\u001b[0;32m    137\u001b[0m     set_eng_float_format,\n\u001b[0;32m    138\u001b[0m     Series,\n\u001b[0;32m    139\u001b[0m     DataFrame,\n\u001b[0;32m    140\u001b[0m )\n\u001b[0;32m    142\u001b[0m \u001b[38;5;28;01mfrom\u001b[39;00m \u001b[38;5;21;01mpandas\u001b[39;00m\u001b[38;5;21;01m.\u001b[39;00m\u001b[38;5;21;01mcore\u001b[39;00m\u001b[38;5;21;01m.\u001b[39;00m\u001b[38;5;21;01mdtypes\u001b[39;00m\u001b[38;5;21;01m.\u001b[39;00m\u001b[38;5;21;01mdtypes\u001b[39;00m \u001b[38;5;28;01mimport\u001b[39;00m SparseDtype\n\u001b[0;32m    144\u001b[0m \u001b[38;5;28;01mfrom\u001b[39;00m \u001b[38;5;21;01mpandas\u001b[39;00m\u001b[38;5;21;01m.\u001b[39;00m\u001b[38;5;21;01mtseries\u001b[39;00m\u001b[38;5;21;01m.\u001b[39;00m\u001b[38;5;21;01mapi\u001b[39;00m \u001b[38;5;28;01mimport\u001b[39;00m infer_freq\n",
      "File \u001b[1;32md:\\AI_Study_Module\\anaconda3\\envs\\python39\\lib\\site-packages\\pandas\\core\\api.py:9\u001b[0m\n\u001b[0;32m      1\u001b[0m \u001b[38;5;28;01mfrom\u001b[39;00m \u001b[38;5;21;01mpandas\u001b[39;00m\u001b[38;5;21;01m.\u001b[39;00m\u001b[38;5;21;01m_libs\u001b[39;00m \u001b[38;5;28;01mimport\u001b[39;00m (\n\u001b[0;32m      2\u001b[0m     NaT,\n\u001b[0;32m      3\u001b[0m     Period,\n\u001b[0;32m      4\u001b[0m     Timedelta,\n\u001b[0;32m      5\u001b[0m     Timestamp,\n\u001b[0;32m      6\u001b[0m )\n\u001b[0;32m      7\u001b[0m \u001b[38;5;28;01mfrom\u001b[39;00m \u001b[38;5;21;01mpandas\u001b[39;00m\u001b[38;5;21;01m.\u001b[39;00m\u001b[38;5;21;01m_libs\u001b[39;00m\u001b[38;5;21;01m.\u001b[39;00m\u001b[38;5;21;01mmissing\u001b[39;00m \u001b[38;5;28;01mimport\u001b[39;00m NA\n\u001b[1;32m----> 9\u001b[0m \u001b[38;5;28;01mfrom\u001b[39;00m \u001b[38;5;21;01mpandas\u001b[39;00m\u001b[38;5;21;01m.\u001b[39;00m\u001b[38;5;21;01mcore\u001b[39;00m\u001b[38;5;21;01m.\u001b[39;00m\u001b[38;5;21;01mdtypes\u001b[39;00m\u001b[38;5;21;01m.\u001b[39;00m\u001b[38;5;21;01mdtypes\u001b[39;00m \u001b[38;5;28;01mimport\u001b[39;00m (\n\u001b[0;32m     10\u001b[0m     ArrowDtype,\n\u001b[0;32m     11\u001b[0m     CategoricalDtype,\n\u001b[0;32m     12\u001b[0m     DatetimeTZDtype,\n\u001b[0;32m     13\u001b[0m     IntervalDtype,\n\u001b[0;32m     14\u001b[0m     PeriodDtype,\n\u001b[0;32m     15\u001b[0m )\n\u001b[0;32m     16\u001b[0m \u001b[38;5;28;01mfrom\u001b[39;00m \u001b[38;5;21;01mpandas\u001b[39;00m\u001b[38;5;21;01m.\u001b[39;00m\u001b[38;5;21;01mcore\u001b[39;00m\u001b[38;5;21;01m.\u001b[39;00m\u001b[38;5;21;01mdtypes\u001b[39;00m\u001b[38;5;21;01m.\u001b[39;00m\u001b[38;5;21;01mmissing\u001b[39;00m \u001b[38;5;28;01mimport\u001b[39;00m (\n\u001b[0;32m     17\u001b[0m     isna,\n\u001b[0;32m     18\u001b[0m     isnull,\n\u001b[0;32m     19\u001b[0m     notna,\n\u001b[0;32m     20\u001b[0m     notnull,\n\u001b[0;32m     21\u001b[0m )\n\u001b[0;32m     23\u001b[0m \u001b[38;5;28;01mfrom\u001b[39;00m \u001b[38;5;21;01mpandas\u001b[39;00m\u001b[38;5;21;01m.\u001b[39;00m\u001b[38;5;21;01mcore\u001b[39;00m\u001b[38;5;21;01m.\u001b[39;00m\u001b[38;5;21;01malgorithms\u001b[39;00m \u001b[38;5;28;01mimport\u001b[39;00m (\n\u001b[0;32m     24\u001b[0m     factorize,\n\u001b[0;32m     25\u001b[0m     unique,\n\u001b[0;32m     26\u001b[0m     value_counts,\n\u001b[0;32m     27\u001b[0m )\n",
      "File \u001b[1;32md:\\AI_Study_Module\\anaconda3\\envs\\python39\\lib\\site-packages\\pandas\\core\\dtypes\\dtypes.py:24\u001b[0m\n\u001b[0;32m     21\u001b[0m \u001b[38;5;28;01mimport\u001b[39;00m \u001b[38;5;21;01mnumpy\u001b[39;00m \u001b[38;5;28;01mas\u001b[39;00m \u001b[38;5;21;01mnp\u001b[39;00m\n\u001b[0;32m     22\u001b[0m \u001b[38;5;28;01mimport\u001b[39;00m \u001b[38;5;21;01mpytz\u001b[39;00m\n\u001b[1;32m---> 24\u001b[0m \u001b[38;5;28;01mfrom\u001b[39;00m \u001b[38;5;21;01mpandas\u001b[39;00m\u001b[38;5;21;01m.\u001b[39;00m\u001b[38;5;21;01m_libs\u001b[39;00m \u001b[38;5;28;01mimport\u001b[39;00m (\n\u001b[0;32m     25\u001b[0m     lib,\n\u001b[0;32m     26\u001b[0m     missing \u001b[38;5;28;01mas\u001b[39;00m libmissing,\n\u001b[0;32m     27\u001b[0m )\n\u001b[0;32m     28\u001b[0m \u001b[38;5;28;01mfrom\u001b[39;00m \u001b[38;5;21;01mpandas\u001b[39;00m\u001b[38;5;21;01m.\u001b[39;00m\u001b[38;5;21;01m_libs\u001b[39;00m\u001b[38;5;21;01m.\u001b[39;00m\u001b[38;5;21;01minterval\u001b[39;00m \u001b[38;5;28;01mimport\u001b[39;00m Interval\n\u001b[0;32m     29\u001b[0m \u001b[38;5;28;01mfrom\u001b[39;00m \u001b[38;5;21;01mpandas\u001b[39;00m\u001b[38;5;21;01m.\u001b[39;00m\u001b[38;5;21;01m_libs\u001b[39;00m\u001b[38;5;21;01m.\u001b[39;00m\u001b[38;5;21;01mproperties\u001b[39;00m \u001b[38;5;28;01mimport\u001b[39;00m cache_readonly\n",
      "File \u001b[1;32mlib.pyx:86\u001b[0m, in \u001b[0;36minit pandas._libs.lib\u001b[1;34m()\u001b[0m\n",
      "File \u001b[1;32m<frozen importlib._bootstrap>:1044\u001b[0m, in \u001b[0;36m_handle_fromlist\u001b[1;34m(module, fromlist, import_, recursive)\u001b[0m\n",
      "\u001b[1;31mSystemError\u001b[0m: <built-in function isinstance> returned a result with an error set"
     ]
    }
   ],
   "source": [
    "import pandas as pd\n",
    "pd.DataFrame(c_files).to_csv('lessbbox.csv',index=False)"
   ]
  },
  {
   "cell_type": "code",
   "execution_count": 12,
   "metadata": {},
   "outputs": [
    {
     "data": {
      "text/plain": [
       "130"
      ]
     },
     "execution_count": 12,
     "metadata": {},
     "output_type": "execute_result"
    }
   ],
   "source": [
    "len(c_files)"
   ]
  },
  {
   "cell_type": "code",
   "execution_count": 7,
   "metadata": {},
   "outputs": [
    {
     "name": "stderr",
     "output_type": "stream",
     "text": [
      "\n",
      "KeyboardInterrupt\n",
      "\n"
     ]
    }
   ],
   "source": [
    "import shutil\n",
    "from tqdm.notebook import tqdm\n",
    "for f in tqdm(c_files):\n",
    "    shutil.copy(os.path.join('pseudo_labels',f), os.path.join('labels', f))"
   ]
  },
  {
   "cell_type": "code",
   "execution_count": null,
   "metadata": {},
   "outputs": [],
   "source": [
    "import pandas as pd\n",
    "pd.DataFrame(c_files).to_csv('overbbox.csv')"
   ]
  },
  {
   "cell_type": "code",
   "execution_count": null,
   "metadata": {},
   "outputs": [],
   "source": []
  }
 ],
 "metadata": {
  "kernelspec": {
   "display_name": "yolov9",
   "language": "python",
   "name": "python3"
  },
  "language_info": {
   "codemirror_mode": {
    "name": "ipython",
    "version": 3
   },
   "file_extension": ".py",
   "mimetype": "text/x-python",
   "name": "python",
   "nbconvert_exporter": "python",
   "pygments_lexer": "ipython3",
   "version": "3.9.19"
  }
 },
 "nbformat": 4,
 "nbformat_minor": 2
}
