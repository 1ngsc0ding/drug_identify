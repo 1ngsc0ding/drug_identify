{
 "cells": [
  {
   "cell_type": "code",
   "execution_count": 2,
   "metadata": {},
   "outputs": [],
   "source": [
    "def train_valid_test_split_rnd3set(src, dst, train_ratio, val_ratio, test_ratio): # random all 3 sets\n",
    "    import os\n",
    "    from tqdm.notebook import tqdm\n",
    "    import shutil\n",
    "    import random\n",
    "\n",
    "    img_dir = 'images'\n",
    "    label_dir = 'labels'\n",
    "    img_path = os.path.join(src,img_dir)\n",
    "    img_files = os.listdir(img_path)        \n",
    "    label_path = os.path.join(src, label_dir)\n",
    "\n",
    "\n",
    "    files = []\n",
    "    for file in img_files:\n",
    "        if file.lower().endswith(('.png', '.jpg', '.jpeg', '.tiff', '.bmp', '.gif')):\n",
    "            files.append(file)\n",
    "    img_files = files\n",
    "    img_files.sort()\n",
    "    \n",
    "    qty_all_img = len(img_files)\n",
    "    qty_test_img = int(test_ratio*qty_all_img)\n",
    "    qty_val_img = int(val_ratio*qty_all_img)\n",
    "    qty_train_img = 0 if train_ratio == 0 else qty_all_img-qty_test_img-qty_val_img\n",
    "    # qty_train_img = qty_all_img-qty_test_img-qty_val_img\n",
    "    print(src, qty_all_img,qty_test_img,qty_val_img,qty_train_img)\n",
    "\n",
    "    # test_img = img_files[-qty_test_img:]\n",
    "    # # print('test_img ',len(img_files[-qty_test_img:]))\n",
    "    # train_valid_img = img_files[:-qty_test_img]\n",
    "    # # print('train_valid_img',len(img_files[:-172]) )\n",
    "    random.seed(0)\n",
    "    random.shuffle(img_files)\n",
    "    print(f'all images quality = {qty_all_img}')\n",
    "    print(f'train images quality = {qty_train_img}')\n",
    "    print(f'val images quality = {qty_val_img}')\n",
    "    print(f'test images quality = {qty_test_img}')\n",
    "    train_img = [] if train_ratio == 0 else img_files[:qty_train_img]\n",
    "    val_img = [] if val_ratio == 0 else img_files[qty_train_img:qty_train_img+qty_val_img]\n",
    "    test_img = [] if test_ratio == 0 else img_files[-qty_test_img:]\n",
    "    # valid_img = img_files[qty_train_img:qty_train_img+qty_val_img]\n",
    "    # test_img = img_files[-qty_test_img:]\n",
    "\n",
    "    train_valid_test = ['train','val','test']\n",
    "    train_valid_test_img = [train_img, val_img, test_img]\n",
    "    if not os.path.exists(dst):\n",
    "        os.makedirs(dst)\n",
    "    else:\n",
    "        shutil.rmtree(dst)\n",
    "        os.makedirs(dst)\n",
    "    \n",
    "    for t, t_img in zip(train_valid_test, train_valid_test_img):\n",
    "        print(t)\n",
    "        for dir in [img_dir, label_dir]:\n",
    "            if not os.path.exists(os.path.join(dst, t, dir)):\n",
    "                os.makedirs(os.path.join(dst, t, dir))\n",
    "        # if not os.path.exists(os.path.join(dst, t, label_dir)):\n",
    "            # os.makedirs(os.path.join(dst, t,label_dir))\n",
    "        for file in tqdm(t_img):\n",
    "            shutil.copy(os.path.join(img_path,file), os.path.join(dst, t, img_dir, file))\n",
    "            try:\n",
    "                shutil.copy(os.path.join(label_path,f'{file[:-3]}txt'), os.path.join(dst, t, label_dir, f'{file[:-3]}txt'))\n",
    "            except:\n",
    "                pass"
   ]
  },
  {
   "cell_type": "code",
   "execution_count": 3,
   "metadata": {},
   "outputs": [
    {
     "name": "stdout",
     "output_type": "stream",
     "text": [
      "./ 47502 0 4750 42752\n",
      "all images quality = 47502\n",
      "train images quality = 42752\n",
      "val images quality = 4750\n",
      "test images quality = 0\n",
      "train\n"
     ]
    },
    {
     "data": {
      "application/vnd.jupyter.widget-view+json": {
       "model_id": "a430bbf1d8494b508ad5d6f491a04bf7",
       "version_major": 2,
       "version_minor": 0
      },
      "text/plain": [
       "  0%|          | 0/42752 [00:00<?, ?it/s]"
      ]
     },
     "metadata": {},
     "output_type": "display_data"
    },
    {
     "name": "stdout",
     "output_type": "stream",
     "text": [
      "val\n"
     ]
    },
    {
     "data": {
      "application/vnd.jupyter.widget-view+json": {
       "model_id": "3ed988464bd1431f9f5292032adb7f29",
       "version_major": 2,
       "version_minor": 0
      },
      "text/plain": [
       "  0%|          | 0/4750 [00:00<?, ?it/s]"
      ]
     },
     "metadata": {},
     "output_type": "display_data"
    },
    {
     "name": "stdout",
     "output_type": "stream",
     "text": [
      "test\n"
     ]
    },
    {
     "data": {
      "application/vnd.jupyter.widget-view+json": {
       "model_id": "c5092157598046aba5ef9ed7d9c205c8",
       "version_major": 2,
       "version_minor": 0
      },
      "text/plain": [
       "0it [00:00, ?it/s]"
      ]
     },
     "metadata": {},
     "output_type": "display_data"
    }
   ],
   "source": [
    "src = './'\n",
    "dst = './tvt'\n",
    "train_valid_test_split_rnd3set(src, dst, .9, .1, 0)"
   ]
  },
  {
   "cell_type": "code",
   "execution_count": 1,
   "metadata": {},
   "outputs": [
    {
     "data": {
      "text/plain": [
       "'i:\\\\drug_identify\\\\dataprep'"
      ]
     },
     "execution_count": 1,
     "metadata": {},
     "output_type": "execute_result"
    }
   ],
   "source": [
    "pwd"
   ]
  },
  {
   "cell_type": "code",
   "execution_count": 2,
   "metadata": {},
   "outputs": [
    {
     "name": "stdout",
     "output_type": "stream",
     "text": [
      "^C"
     ]
    }
   ],
   "source": [
    "# cp -r labels0/ labels"
   ]
  },
  {
   "cell_type": "code",
   "execution_count": 4,
   "metadata": {},
   "outputs": [],
   "source": [
    "import shutil, os\n",
    "from tqdm.notebook import tqdm\n",
    "src = os.listdir('labels0')\n",
    "dst = 'labels'\n",
    "for f in tqdm(src):\n",
    "    shutil.copy(os.path.join('labels0',f), os.path.join(dst,f))"
   ]
  },
  {
   "cell_type": "code",
   "execution_count": null,
   "metadata": {},
   "outputs": [],
   "source": [
    "src = './'\n",
    "dst = './tvt'\n",
    "train_ratio = 1\n",
    "val_ratio = 0\n",
    "test_ratio = 0\n",
    "train_valid_test_split_rnd3set(src, dst, train_ratio, val_ratio, test_ratio)"
   ]
  }
 ],
 "metadata": {
  "kernelspec": {
   "display_name": "python39",
   "language": "python",
   "name": "python3"
  },
  "language_info": {
   "codemirror_mode": {
    "name": "ipython",
    "version": 3
   },
   "file_extension": ".py",
   "mimetype": "text/x-python",
   "name": "python",
   "nbconvert_exporter": "python",
   "pygments_lexer": "ipython3",
   "version": "3.9.19"
  }
 },
 "nbformat": 4,
 "nbformat_minor": 2
}
